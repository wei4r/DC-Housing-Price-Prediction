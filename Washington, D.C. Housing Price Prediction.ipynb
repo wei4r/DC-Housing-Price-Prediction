{
 "cells": [
  {
   "cell_type": "code",
   "execution_count": 3,
   "id": "59319e51",
   "metadata": {},
   "outputs": [
    {
     "name": "stdout",
     "output_type": "stream",
     "text": [
      "SSL                     0\n",
      "BATHRM               1807\n",
      "HF_BATHRM            1807\n",
      "HEAT                 1807\n",
      "HEAT_D               1807\n",
      "AC                   1807\n",
      "NUM_UNITS            1807\n",
      "ROOMS                   0\n",
      "BEDRM                   0\n",
      "AYB                    24\n",
      "EYB                     0\n",
      "STORIES              1975\n",
      "SALEDATE                0\n",
      "PRICE                   0\n",
      "QUALIFIED               0\n",
      "SALE_NUM                0\n",
      "GBA                     0\n",
      "BLDG_NUM                0\n",
      "STYLE                   0\n",
      "STYLE_D              1807\n",
      "STRUCT                  0\n",
      "STRUCT_D             1807\n",
      "GRADE                   0\n",
      "GRADE_D              1807\n",
      "CNDTN                1807\n",
      "CNDTN_D              1807\n",
      "EXTWALL              1807\n",
      "EXTWALL_D            1807\n",
      "ROOF                 1807\n",
      "ROOF_D               1807\n",
      "INTWALL              1807\n",
      "INTWALL_D            1807\n",
      "KITCHENS                0\n",
      "FIREPLACES              0\n",
      "USECODE                 0\n",
      "LANDAREA                0\n",
      "GIS_LAST_MOD_DTTM       0\n",
      "OBJECTID                0\n",
      "dtype: int64\n"
     ]
    }
   ],
   "source": [
    "import pandas as pd\n",
    "\n",
    "# Load the dataset (you can adjust the file path)\n",
    "file_path = 'Computer_Assisted_Mass_Appraisal_-_Residential.csv'\n",
    "dataset = pd.read_csv(file_path)\n",
    "\n",
    "# Drop columns with high percentage of missing values (like 'YR_RMDL')\n",
    "dataset_cleaned = dataset.drop(columns=['YR_RMDL'])\n",
    "\n",
    "# For numerical columns, fill missing values with the median (e.g., for 'PRICE', 'ROOMS', etc.)\n",
    "dataset_cleaned['PRICE'].fillna(dataset_cleaned['PRICE'].median(), inplace=True)\n",
    "dataset_cleaned['ROOMS'].fillna(dataset_cleaned['ROOMS'].median(), inplace=True)\n",
    "dataset_cleaned['BEDRM'].fillna(dataset_cleaned['BEDRM'].median(), inplace=True)\n",
    "dataset_cleaned['KITCHENS'].fillna(dataset_cleaned['KITCHENS'].median(), inplace=True)\n",
    "dataset_cleaned['FIREPLACES'].fillna(dataset_cleaned['FIREPLACES'].median(), inplace=True)\n",
    "\n",
    "# For categorical columns, fill missing values with the mode (e.g., for 'STYLE', 'GRADE', etc.)\n",
    "dataset_cleaned['STYLE'].fillna(dataset_cleaned['STYLE'].mode()[0], inplace=True)\n",
    "dataset_cleaned['GRADE'].fillna(dataset_cleaned['GRADE'].mode()[0], inplace=True)\n",
    "dataset_cleaned['STRUCT'].fillna(dataset_cleaned['STRUCT'].mode()[0], inplace=True)\n",
    "\n",
    "# You can continue this process for other columns as needed\n",
    "\n",
    "# Save the cleaned dataset if needed\n",
    "dataset_cleaned.to_csv('cleaned_dataset.csv', index=False)\n",
    "\n",
    "# Check if there are any remaining missing values\n",
    "print(dataset_cleaned.isnull().sum())"
   ]
  },
  {
   "cell_type": "code",
   "execution_count": null,
   "id": "a878c096",
   "metadata": {},
   "outputs": [],
   "source": []
  }
 ],
 "metadata": {
  "kernelspec": {
   "display_name": "Python 3 (ipykernel)",
   "language": "python",
   "name": "python3"
  },
  "language_info": {
   "codemirror_mode": {
    "name": "ipython",
    "version": 3
   },
   "file_extension": ".py",
   "mimetype": "text/x-python",
   "name": "python",
   "nbconvert_exporter": "python",
   "pygments_lexer": "ipython3",
   "version": "3.11.7"
  }
 },
 "nbformat": 4,
 "nbformat_minor": 5
}
